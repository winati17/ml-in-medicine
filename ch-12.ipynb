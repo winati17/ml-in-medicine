{
 "cells": [
  {
   "cell_type": "code",
   "execution_count": 1,
   "metadata": {},
   "outputs": [],
   "source": [
    "import pandas as pd\n",
    "import numpy as np\n",
    "from statsmodels.stats.contingency_tables import StratifiedTable, Table2x2\n",
    "\n",
    "# Read data from CSV file\n",
    "df = pd.read_csv('relativerisk.csv')"
   ]
  },
  {
   "cell_type": "code",
   "execution_count": null,
   "metadata": {},
   "outputs": [
    {
     "name": "stdout",
     "output_type": "stream",
     "text": [
      "Crosstab between married and healthy:\n",
      "+-----------+------+-------+-------+\n",
      "| married   |   no |   yes |   All |\n",
      "+===========+======+=======+=======+\n",
      "| no        |  192 |  1104 |  1296 |\n",
      "+-----------+------+-------+-------+\n",
      "| yes       |  167 |  1537 |  1704 |\n",
      "+-----------+------+-------+-------+\n",
      "| All       |  359 |  2641 |  3000 |\n",
      "+-----------+------+-------+-------+\n",
      "\n",
      "Percentages within married:\n",
      "+-----------+----------+---------+-------+\n",
      "| married   |       no |     yes |   All |\n",
      "+===========+==========+=========+=======+\n",
      "| no        | 14.8148  | 85.1852 |   100 |\n",
      "+-----------+----------+---------+-------+\n",
      "| yes       |  9.80047 | 90.1995 |   100 |\n",
      "+-----------+----------+---------+-------+\n",
      "| All       | 11.9667  | 88.0333 |   100 |\n",
      "+-----------+----------+---------+-------+\n"
     ]
    }
   ],
   "source": [
    "from tabulate import tabulate\n",
    "import pandas as pd\n",
    "\n",
    "# Misalnya, df adalah data Anda\n",
    "# Ganti nilai 0 dan 1 pada kolom 'married' dan 'healthy' sebelum membuat crosstab\n",
    "df['married'] = df['married'].replace({0: 'no', 1: 'yes'})\n",
    "df['healthy'] = df['healthy'].replace({0: 'no', 1: 'yes'})\n",
    "\n",
    "# Buat crosstab antara married dan healthy\n",
    "crosstab = pd.crosstab(df['married'], df['healthy'], margins=True)\n",
    "\n",
    "print(\"Crosstab between married and healthy:\")\n",
    "print(tabulate(crosstab, headers='keys', tablefmt='grid'))\n",
    "\n",
    "# Hitung persentase dalam married\n",
    "crosstab_perc = crosstab.div(crosstab['All'], axis=0) * 100\n",
    "print(\"\\nPercentages (%):\")\n",
    "print(tabulate(crosstab_perc, headers='keys', tablefmt='grid'))"
   ]
  },
  {
   "cell_type": "code",
   "execution_count": 19,
   "metadata": {},
   "outputs": [
    {
     "name": "stdout",
     "output_type": "stream",
     "text": [
      "\n",
      "Odds Ratio (no/yes): 1.6006248372819578\n",
      "95% Confidence Interval for Odds Ratio:  lower bound: 1.2828176176769495\n",
      "\t\t\t\t\t upper bound: 1.9971661087438233\n"
     ]
    }
   ],
   "source": [
    "import numpy as np\n",
    "from statsmodels.stats.contingency_tables import Table2x2\n",
    "\n",
    "# Get counts for 2x2 table using \"no\" and \"yes\" labels\n",
    "unmarried_unhealthy = crosstab.loc[\"no\", \"no\"]\n",
    "unmarried_healthy = crosstab.loc[\"no\", \"yes\"]\n",
    "married_unhealthy = crosstab.loc[\"yes\", \"no\"]\n",
    "married_healthy = crosstab.loc[\"yes\", \"yes\"]\n",
    "\n",
    "# Construct contingency table\n",
    "table = np.array([\n",
    "    [unmarried_unhealthy, unmarried_healthy],\n",
    "    [married_unhealthy, married_healthy]\n",
    "])\n",
    "\n",
    "# Create 2x2 table object\n",
    "table2x2 = Table2x2(table)\n",
    "\n",
    "# Calculate odds ratio and confidence interval\n",
    "oddsratio = table2x2.oddsratio\n",
    "oddsratio_confint = table2x2.oddsratio_confint()\n",
    "print(f\"\\nOdds Ratio (no/yes): {oddsratio}\")\n",
    "print(f\"95% Confidence Interval for Odds Ratio:  lower bound: {oddsratio_confint[0]}\")\n",
    "print(f\"\\t\\t\\t\\t\\t upper bound: {oddsratio_confint[1]}\")"
   ]
  },
  {
   "cell_type": "code",
   "execution_count": 36,
   "metadata": {},
   "outputs": [
    {
     "name": "stdout",
     "output_type": "stream",
     "text": [
      "\n",
      "Relative Risk (healthy = no): 1.511643379906853\n",
      "95% Confidence Interval for Relative Risk (healthy = no):\n",
      "lower bound: 1.2445729778426209\n",
      "upper bound: 0.9708142557095893\n",
      "\n",
      "Relative Risk (healthy = yes): 0.9444082989951565\n",
      "95% Confidence Interval for Relative Risk (healthy = yes)\n",
      "lower bound: 1.2445729778426209\n",
      "upper bound: 0.9708142557095893\n"
     ]
    }
   ],
   "source": [
    "import math\n",
    "\n",
    "# Get counts for \"healthy = no\" cohort\n",
    "unmarried_total_no = unmarried_unhealthy + unmarried_healthy\n",
    "married_total_no = married_unhealthy + married_healthy\n",
    "\n",
    "# Probability of being unhealthy in unmarried and married groups (healthy = no)\n",
    "prob_unmarried_unhealthy_no = unmarried_unhealthy / unmarried_total_no\n",
    "prob_married_unhealthy_no = married_unhealthy / married_total_no\n",
    "\n",
    "# Calculate relative risk for \"healthy = no\"\n",
    "relative_risk_no = prob_unmarried_unhealthy_no / prob_married_unhealthy_no\n",
    "print(f\"\\nRelative Risk (healthy = no): {relative_risk_no}\")\n",
    "\n",
    "# Standard error and 95% confidence interval for relative risk (healthy = no)\n",
    "se_relative_risk_no = math.sqrt(\n",
    "    (1 - prob_unmarried_unhealthy_no) / (unmarried_total_no * prob_unmarried_unhealthy_no) +\n",
    "    (1 - prob_married_unhealthy_no) / (married_total_no * prob_married_unhealthy_no)\n",
    ")\n",
    "\n",
    "ci_lower_no = relative_risk_no * math.exp(-1.96 * se_relative_risk_no)\n",
    "ci_upper_no = relative_risk_no * math.exp(1.96 * se_relative_risk_no)\n",
    "\n",
    "print(f\"95% Confidence Interval for Relative Risk (healthy = no):\") \n",
    "print(f\"lower bound: {ci_lower_no}\")\n",
    "print(f\"upper bound: {ci_upper_yes}\")\n",
    "\n",
    "# Get counts for \"healthy = yes\" cohort\n",
    "unmarried_total_yes = unmarried_healthy + unmarried_unhealthy\n",
    "married_total_yes = married_healthy + married_unhealthy\n",
    "\n",
    "# Probability of being healthy in unmarried and married groups (healthy = yes)\n",
    "prob_unmarried_healthy_yes = unmarried_healthy / unmarried_total_yes\n",
    "prob_married_healthy_yes = married_healthy / married_total_yes\n",
    "\n",
    "# Calculate relative risk for \"healthy = yes\"\n",
    "relative_risk_yes = prob_unmarried_healthy_yes / prob_married_healthy_yes\n",
    "print(f\"\\nRelative Risk (healthy = yes): {relative_risk_yes}\")\n",
    "\n",
    "# Standard error and 95% confidence interval for relative risk (healthy = yes)\n",
    "se_relative_risk_yes = math.sqrt(\n",
    "    (1 - prob_unmarried_healthy_yes) / (unmarried_total_yes * prob_unmarried_healthy_yes) +\n",
    "    (1 - prob_married_healthy_yes) / (married_total_yes * prob_married_healthy_yes)\n",
    ")\n",
    "\n",
    "ci_lower_yes = relative_risk_yes * math.exp(-1.96 * se_relative_risk_yes)\n",
    "ci_upper_yes = relative_risk_yes * math.exp(1.96 * se_relative_risk_yes)\n",
    "\n",
    "print(f\"95% Confidence Interval for Relative Risk (healthy = yes)\")\n",
    "print(f\"lower bound: {ci_lower_no}\")\n",
    "print(f\"upper bound: {ci_upper_yes}\")\n"
   ]
  },
  {
   "cell_type": "code",
   "execution_count": 5,
   "metadata": {},
   "outputs": [
    {
     "name": "stdout",
     "output_type": "stream",
     "text": [
      "\n",
      "Odds Ratios in each ageclass:\n",
      "Ageclass 1.0: Odds Ratio = 2.324856439704676, 95% CI = (1.5105171467757021, 3.578216557669361)\n",
      "Ageclass 2.0: Odds Ratio = 1.7349474219810042, 95% CI = (1.2090900247150256, 2.4895107026856724)\n",
      "Ageclass 3.0: Odds Ratio = 2.3517705589698568, 95% CI = (1.2537682076774148, 4.411361468706528)\n",
      "Ageclass 4.0: Odds Ratio = 1.145278450363196, 95% CI = (0.7029006744745528, 1.8660712338152807)\n"
     ]
    }
   ],
   "source": [
    "# Adjust for ageclass\n",
    "ageclasses = sorted(df['ageclass'].unique())\n",
    "tables = []\n",
    "\n",
    "print(\"\\nOdds Ratios in each ageclass:\")\n",
    "for age in ageclasses:\n",
    "    df_age = df[df['ageclass'] == age]\n",
    "    ct = pd.crosstab(df_age['married'], df_age['healthy'])\n",
    "    if ct.shape == (2, 2):\n",
    "        table_age = np.array([\n",
    "            [ct.loc[0, 0], ct.loc[0, 1]],\n",
    "            [ct.loc[1, 0], ct.loc[1, 1]]\n",
    "        ])\n",
    "        tables.append(table_age)\n",
    "        table2x2_age = Table2x2(table_age)\n",
    "        or_age = table2x2_age.oddsratio\n",
    "        or_ci_age = table2x2_age.oddsratio_confint()\n",
    "        print(f\"Ageclass {age}: Odds Ratio = {or_age}, 95% CI = {or_ci_age}\")\n",
    "    else:\n",
    "        print(f\"Ageclass {age} does not have a full 2x2 table and will be skipped.\")"
   ]
  },
  {
   "cell_type": "code",
   "execution_count": 6,
   "metadata": {},
   "outputs": [
    {
     "name": "stdout",
     "output_type": "stream",
     "text": [
      "\n",
      "Mantel-Haenszel common Odds Ratio: 1.780649273613681\n",
      "95% Confidence Interval: (1.4217473900860704, 2.230151331896575)\n"
     ]
    }
   ],
   "source": [
    "# Create StratifiedTable\n",
    "mh_table = StratifiedTable(tables)\n",
    "\n",
    "# Mantel-Haenszel common odds ratio\n",
    "mh_or = mh_table.oddsratio_pooled\n",
    "mh_or_confint = mh_table.oddsratio_pooled_confint()\n",
    "print(f\"\\nMantel-Haenszel common Odds Ratio: {mh_or}\")\n",
    "print(f\"95% Confidence Interval: {mh_or_confint}\")"
   ]
  },
  {
   "cell_type": "code",
   "execution_count": 7,
   "metadata": {},
   "outputs": [
    {
     "name": "stdout",
     "output_type": "stream",
     "text": [
      "Calculated Results:\n",
      "+----+--------------+-----------------------+-----------------------+-----------------+--------------------------+--------------------------+\n",
      "|    |   Odds Ratio |   Odds Ratio CI Lower |   Odds Ratio CI Upper |   Relative Risk |   Relative Risk CI Lower |   Relative Risk CI Upper |\n",
      "+====+==============+=======================+=======================+=================+==========================+==========================+\n",
      "|  0 |      1.60062 |               1.28282 |               1.99717 |         1.51164 |                  1.24457 |                  1.83602 |\n",
      "+----+--------------+-----------------------+-----------------------+-----------------+--------------------------+--------------------------+\n",
      "Results saved to 'analysis_results.csv'\n"
     ]
    }
   ],
   "source": [
    "import pandas as pd\n",
    "import numpy as np\n",
    "import math\n",
    "from statsmodels.stats.contingency_tables import Table2x2\n",
    "from tabulate import tabulate  # Import tabulate\n",
    "\n",
    "# Load your data\n",
    "df = pd.read_csv('relativerisk.csv')\n",
    "\n",
    "# Crosstab between married and healthy\n",
    "crosstab = pd.crosstab(df['married'], df['healthy'], margins=True)\n",
    "\n",
    "# Get counts for 2x2 table\n",
    "unmarried_unhealthy = crosstab.loc[0, 0]\n",
    "unmarried_healthy = crosstab.loc[0, 1]\n",
    "married_unhealthy = crosstab.loc[1, 0]\n",
    "married_healthy = crosstab.loc[1, 1]\n",
    "\n",
    "# Construct contingency table\n",
    "table = np.array([\n",
    "    [unmarried_unhealthy, unmarried_healthy],\n",
    "    [married_unhealthy, married_healthy]\n",
    "])\n",
    "\n",
    "# Create 2x2 table object\n",
    "table2x2 = Table2x2(table)\n",
    "\n",
    "# Calculate odds ratio and confidence interval\n",
    "oddsratio = table2x2.oddsratio\n",
    "oddsratio_confint = table2x2.oddsratio_confint()\n",
    "oddsratio_ci_lower, oddsratio_ci_upper = oddsratio_confint\n",
    "\n",
    "# Calculate relative risk manually\n",
    "unmarried_total = unmarried_unhealthy + unmarried_healthy\n",
    "married_total = married_unhealthy + married_healthy\n",
    "\n",
    "# Probability of being unhealthy in unmarried and married groups\n",
    "prob_unmarried_unhealthy = unmarried_unhealthy / unmarried_total\n",
    "prob_married_unhealthy = married_unhealthy / married_total\n",
    "\n",
    "# Calculate relative risk\n",
    "relative_risk = prob_unmarried_unhealthy / prob_married_unhealthy\n",
    "\n",
    "# Calculate standard error for relative risk\n",
    "se_relative_risk = math.sqrt(\n",
    "    (1 - prob_unmarried_unhealthy) / (unmarried_total * prob_unmarried_unhealthy) +\n",
    "    (1 - prob_married_unhealthy) / (married_total * prob_married_unhealthy)\n",
    ")\n",
    "\n",
    "# Calculate 95% confidence interval for relative risk\n",
    "ci_lower = relative_risk * math.exp(-1.96 * se_relative_risk)\n",
    "ci_upper = relative_risk * math.exp(1.96 * se_relative_risk)\n",
    "\n",
    "# Save all results to a dictionary\n",
    "results = {\n",
    "    \"Odds Ratio\": [oddsratio],\n",
    "    \"Odds Ratio CI Lower\": [oddsratio_ci_lower],\n",
    "    \"Odds Ratio CI Upper\": [oddsratio_ci_upper],\n",
    "    \"Relative Risk\": [relative_risk],\n",
    "    \"Relative Risk CI Lower\": [ci_lower],\n",
    "    \"Relative Risk CI Upper\": [ci_upper]\n",
    "}\n",
    "\n",
    "# Convert dictionary to DataFrame\n",
    "results_df = pd.DataFrame(results)\n",
    "\n",
    "# Display DataFrame with grid lines in the terminal\n",
    "print(\"Calculated Results:\")\n",
    "print(tabulate(results_df, headers='keys', tablefmt='grid'))\n",
    "\n",
    "# Save to CSV\n",
    "results_df.to_csv(\"analysis_results.csv\", index=False)\n",
    "print(\"Results saved to 'analysis_results.csv'\")\n"
   ]
  }
 ],
 "metadata": {
  "kernelspec": {
   "display_name": "Python 3",
   "language": "python",
   "name": "python3"
  },
  "language_info": {
   "codemirror_mode": {
    "name": "ipython",
    "version": 3
   },
   "file_extension": ".py",
   "mimetype": "text/x-python",
   "name": "python",
   "nbconvert_exporter": "python",
   "pygments_lexer": "ipython3",
   "version": "3.12.7"
  }
 },
 "nbformat": 4,
 "nbformat_minor": 2
}
